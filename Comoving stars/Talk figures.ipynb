{
 "cells": [
  {
   "cell_type": "code",
   "execution_count": null,
   "metadata": {
    "collapsed": true
   },
   "outputs": [],
   "source": [
    "import os\n",
    "from os import path\n",
    "\n",
    "#  Third-party\n",
    "import astropy.coordinates as coord\n",
    "import astropy.units as u\n",
    "import matplotlib as mpl\n",
    "import matplotlib.pyplot as plt\n",
    "import numpy as np\n",
    "%matplotlib inline"
   ]
  },
  {
   "cell_type": "code",
   "execution_count": null,
   "metadata": {
    "collapsed": true
   },
   "outputs": [],
   "source": [
    "figure_path = 'figures'\n",
    "os.makedirs(figure_path, exist_ok=True)"
   ]
  },
  {
   "cell_type": "code",
   "execution_count": null,
   "metadata": {
    "collapsed": true
   },
   "outputs": [],
   "source": [
    "# global settings\n",
    "figsize = (6.66, 5)\n",
    "\n",
    "line_style = dict(marker='', linewidth=3, linestyle='-')"
   ]
  },
  {
   "cell_type": "markdown",
   "metadata": {},
   "source": [
    "## Wide binary velocity"
   ]
  },
  {
   "cell_type": "code",
   "execution_count": null,
   "metadata": {
    "collapsed": true
   },
   "outputs": [],
   "source": [
    "from astropy.constants import G"
   ]
  },
  {
   "cell_type": "code",
   "execution_count": null,
   "metadata": {
    "collapsed": true
   },
   "outputs": [],
   "source": [
    "M = 2 * u.Msun\n",
    "a = np.logspace(-4, 1, 1024) * u.pc\n",
    "vorb = np.sqrt(G*M / a)"
   ]
  },
  {
   "cell_type": "code",
   "execution_count": null,
   "metadata": {},
   "outputs": [],
   "source": [
    "fig, ax = plt.subplots(1, 1, figsize=figsize)\n",
    "ax2 = ax.twiny()\n",
    "\n",
    "ax.plot(a, vorb.to(u.km/u.s).value, **line_style)\n",
    "\n",
    "ax.text(5E-4, 6, r'$M_{{\\rm tot}} =$ {0.value} {0.unit:latex_inline}'.format(M), fontsize=20)\n",
    "\n",
    "ax.set_xlim(a.to(u.pc).value.min(), a.to(u.pc).value.max())\n",
    "ax.set_ylim(-0.5, 10)\n",
    "ax.set_xscale('log')\n",
    "ax.set_xlabel('$a$ [pc]', labelpad=10)\n",
    "ax.set_ylabel('orbital\\nvelocity\\n[{0:latex_inline}]'.format(u.km/u.s), \n",
    "              rotation='horizontal', ha='right', va='center', labelpad=10)\n",
    "\n",
    "ax2.set_xlim(a.to(u.au).value.min(), a.to(u.au).value.max())\n",
    "ax2.set_xscale('log')\n",
    "ax2.set_xlabel('$a$ [AU]', labelpad=10)\n",
    "\n",
    "fig.tight_layout()\n",
    "fig.savefig(path.join(figure_path, 'binary_vel.pdf'))"
   ]
  },
  {
   "cell_type": "markdown",
   "metadata": {},
   "source": [
    "---\n",
    "\n",
    "## Jacobi radius"
   ]
  },
  {
   "cell_type": "code",
   "execution_count": null,
   "metadata": {
    "collapsed": true
   },
   "outputs": [],
   "source": [
    "from matplotlib.ticker import FormatStrFormatter\n",
    "import gala.potential as gp"
   ]
  },
  {
   "cell_type": "code",
   "execution_count": null,
   "metadata": {
    "collapsed": true
   },
   "outputs": [],
   "source": [
    "pot = gp.MilkyWayPotential()"
   ]
  },
  {
   "cell_type": "code",
   "execution_count": null,
   "metadata": {
    "collapsed": true
   },
   "outputs": [],
   "source": [
    "M = 2*u.Msun\n",
    "xyz = np.zeros((3, 1024)) * u.kpc\n",
    "xyz[0] = np.linspace(0.1, 30, xyz.shape[1]) * u.kpc\n",
    "M_enc = pot.mass_enclosed(xyz)\n",
    "\n",
    "r_jac = (M / (3*M_enc))**(1/3.) * xyz[0]"
   ]
  },
  {
   "cell_type": "code",
   "execution_count": null,
   "metadata": {},
   "outputs": [],
   "source": [
    "fig,ax = plt.subplots(1, 1, figsize=figsize)\n",
    "ax.plot(xyz[0], r_jac.to(u.pc).value, **line_style)\n",
    "ax.set_yscale('log')\n",
    "ax.set_xlim(4, 30)\n",
    "ax.set_ylim(0.7, 7)\n",
    "\n",
    "ax.set_xlabel('Galactocentric $r$ [kpc]')\n",
    "ax.set_ylabel('Jacobi\\nradius\\n[pc]', \n",
    "              rotation='horizontal', ha='right', va='center', labelpad=10)\n",
    "\n",
    "ax.yaxis.set_ticks(range(1,5+1), minor=True)\n",
    "ax.yaxis.set_minor_formatter(FormatStrFormatter(\"%d\"))\n",
    "ax.yaxis.set_ticklabels([''])\n",
    "\n",
    "ax.grid(which='minor')\n",
    "\n",
    "fig.tight_layout()\n",
    "fig.savefig(path.join(figure_path, 'jacobi_radius.pdf'))"
   ]
  },
  {
   "cell_type": "markdown",
   "metadata": {},
   "source": [
    "---\n",
    "\n",
    "## Geometric velocity effects"
   ]
  },
  {
   "cell_type": "code",
   "execution_count": null,
   "metadata": {
    "collapsed": true
   },
   "outputs": [],
   "source": [
    "from scipy.stats import binned_statistic, scoreatpercentile"
   ]
  },
  {
   "cell_type": "code",
   "execution_count": null,
   "metadata": {
    "collapsed": true
   },
   "outputs": [],
   "source": [
    "def get_isotropic_angles(size=1):\n",
    "    phi = np.random.uniform(0, 360, size=N) * u.deg\n",
    "    theta = np.arccos(2*np.random.uniform(size=N) - 1) * u.rad\n",
    "    return {'phi': phi, 'theta': theta}"
   ]
  },
  {
   "cell_type": "code",
   "execution_count": null,
   "metadata": {
    "collapsed": true
   },
   "outputs": [],
   "source": [
    "def get_stats(dx, v_mag, size, n_bins=16):\n",
    "    # First make a bunch of isotropic, uniform comoving pairs within a sphere\n",
    "    r = 200*u.pc * np.cbrt(np.random.uniform(size=N))\n",
    "    pos1 = coord.PhysicsSphericalRepresentation(r=r, **get_isotropic_angles(size=N))\n",
    "\n",
    "    r = dx * np.ones(N)\n",
    "    pos2 = pos1 + coord.PhysicsSphericalRepresentation(r=r, **get_isotropic_angles(size=N)) \n",
    "\n",
    "    v_basis = coord.PhysicsSphericalRepresentation(r=np.ones(N), **get_isotropic_angles(size=N)) \n",
    "    v_basis = v_basis.represent_as(coord.CartesianRepresentation).xyz\n",
    "    v = coord.CartesianDifferential(v_mag * v_basis)\n",
    "\n",
    "    icrs1 = coord.ICRS(pos1.represent_as(coord.CartesianRepresentation)\n",
    "                           .with_differentials(v))\n",
    "    icrs2 = coord.ICRS(pos2.represent_as(coord.CartesianRepresentation)\n",
    "                           .with_differentials(v))\n",
    "    \n",
    "    # compute \u2206\u00b5 and \u2206vtan\n",
    "    dpm = np.sqrt((icrs1.pm_ra_cosdec-icrs2.pm_ra_cosdec)**2 + (icrs1.pm_dec - icrs2.pm_dec)**2)\n",
    "    dvtan = (dpm * icrs1.distance).to(u.km/u.s, u.dimensionless_angles())\n",
    "    \n",
    "    # compute binned stats\n",
    "    bins = np.linspace(0, 200+(200/n_bins/2), n_bins)\n",
    "    \n",
    "    res = dict(dpm=[], dvtan=[])\n",
    "    res['dpm'].append(binned_statistic(icrs1.distance.to(u.pc).value, \n",
    "                                       dpm.to(u.mas/u.yr).value, \n",
    "                                       bins=bins, statistic=np.median))\n",
    "    res['dpm'].append(binned_statistic(icrs1.distance.to(u.pc).value, \n",
    "                                       dpm.to(u.mas/u.yr).value, \n",
    "                                       bins=bins, statistic=lambda x: scoreatpercentile(x, 5)))\n",
    "    res['dpm'].append(binned_statistic(icrs1.distance.to(u.pc).value, \n",
    "                                       dpm.to(u.mas/u.yr).value, \n",
    "                                       bins=bins, statistic=lambda x: scoreatpercentile(x, 95)))\n",
    "    \n",
    "    res['dvtan'].append(binned_statistic(icrs1.distance.to(u.pc).value, \n",
    "                                         dvtan.value, \n",
    "                                         bins=bins, statistic=np.median))\n",
    "    res['dvtan'].append(binned_statistic(icrs1.distance.to(u.pc).value, \n",
    "                                         dvtan.value, \n",
    "                                         bins=bins, statistic=lambda x: scoreatpercentile(x, 5)))\n",
    "    res['dvtan'].append(binned_statistic(icrs1.distance.to(u.pc).value, \n",
    "                                         dvtan.value, \n",
    "                                         bins=bins, statistic=lambda x: scoreatpercentile(x, 95)))\n",
    "    \n",
    "    res['x'] = 0.5 * (bins[1:] + bins[:-1])\n",
    "    \n",
    "    return res"
   ]
  },
  {
   "cell_type": "code",
   "execution_count": null,
   "metadata": {
    "collapsed": true
   },
   "outputs": [],
   "source": [
    "colors = ['tab:blue', 'tab:orange', 'tab:green']"
   ]
  },
  {
   "cell_type": "code",
   "execution_count": null,
   "metadata": {
    "collapsed": true
   },
   "outputs": [],
   "source": [
    "fig,axes = plt.subplots(2, 1, figsize=(6,8), sharex=True)\n",
    "\n",
    "for i,v in enumerate([100, 30, 5]*u.km/u.s):\n",
    "    stats = get_stats(dx=1*u.pc, v_mag=v, size=1E6, n_bins=21)\n",
    "    for j,name in enumerate(['dpm', 'dvtan']):\n",
    "        axes[j].plot(stats['x'], stats[name][0].statistic, \n",
    "                     label='$v-v_\\odot = {0.value:.0f}$ {0.unit:latex_inline}'.format(v),\n",
    "                     marker='', linestyle='-', linewidth=2, color=colors[i], zorder=10)\n",
    "        axes[j].fill_between(stats['x'], stats[name][1].statistic, stats[name][2].statistic,\n",
    "                             color=colors[i], alpha=0.5, zorder=1, linewidth=0)\n",
    "    \n",
    "axes[0].set_yscale('log')\n",
    "axes[0].set_ylim(1E-2, 1E2)\n",
    "axes[0].set_yticks(10. ** np.arange(-2, 2+1, 1))\n",
    "axes[0].set_yticklabels([0.01, 0.1, 1, 10, 100])\n",
    "axes[0].set_ylabel(r'$|\\Delta\\bar{{\\mu}}|$ [{0:latex_inline}]'.format(u.mas/u.yr))\n",
    "axes[0].legend(loc='upper right', fontsize=14)\n",
    "axes[0].set_title(r'$|\\Delta\\bar{x}| = 1$ [pc]', fontsize=22)\n",
    "\n",
    "axes[1].set_yscale('log')\n",
    "axes[1].set_ylim(1E-2, 5E1)\n",
    "axes[1].set_xlim(0, 200)\n",
    "axes[1].set_yticks(10. ** np.arange(-2, 1+1, 1))\n",
    "axes[1].set_yticklabels([0.01, 0.1, 1, 10])\n",
    "axes[1].set_ylabel(r'$|\\Delta\\bar{{v}}_{{\\rm tan}}|$ [{0:latex_inline}]'.format(u.km/u.s))\n",
    "\n",
    "axes[1].set_xlabel(r'distance, $d_\\odot$ [{0}]'.format(u.pc))\n",
    "\n",
    "fig.tight_layout()\n",
    "fig.savefig(path.join(figure_path, 'dv-dist-fixed-sep.pdf'))"
   ]
  },
  {
   "cell_type": "code",
   "execution_count": null,
   "metadata": {
    "collapsed": true
   },
   "outputs": [],
   "source": [
    "fig,axes = plt.subplots(2, 1, figsize=(6,8), sharex=True)\n",
    "\n",
    "for i,dx in enumerate([10, 1, 0.1]*u.pc):\n",
    "    stats = get_stats(dx=dx, v_mag=30*u.km/u.s, size=1E6, n_bins=21)\n",
    "    for j,name in enumerate(['dpm', 'dvtan']):\n",
    "        label = r'$|\\Delta\\bar{{x}}| = {0.value:.0f}$ {0.unit:latex_inline}'.format(dx)\n",
    "        if i == 2:\n",
    "            label = r'$|\\Delta\\bar{{x}}| = {0.value:.1f}$ {0.unit:latex_inline}'.format(dx)\n",
    "        axes[j].plot(stats['x'], stats[name][0].statistic, label=label,\n",
    "                     marker='', linestyle='-', linewidth=2, color=colors[i], zorder=10)\n",
    "        axes[j].fill_between(stats['x'], stats[name][1].statistic, stats[name][2].statistic,\n",
    "                             color=colors[i], alpha=0.5, zorder=1, linewidth=0)\n",
    "    \n",
    "axes[0].set_yscale('log')\n",
    "axes[0].set_ylim(5E-2, 5E2)\n",
    "axes[0].set_yticks(10. ** np.arange(-2, 2+1, 1))\n",
    "axes[0].set_yticklabels([0.01, 0.1, 1, 10, 100])\n",
    "axes[0].set_ylabel(r'$|\\Delta\\bar{{\\mu}}|$ [{0:latex_inline}]'.format(u.mas/u.yr))\n",
    "axes[0].legend(loc='upper right', fontsize=14)\n",
    "axes[0].set_title(r'$v-v_\\odot = 30$ [{0:latex_inline}]'.format(u.km/u.s), fontsize=22)\n",
    "\n",
    "axes[1].set_yscale('log')\n",
    "axes[1].set_ylim(1E-2, 5E1)\n",
    "axes[1].set_xlim(0, 200)\n",
    "axes[1].set_yticks(10. ** np.arange(-2, 1+1, 1))\n",
    "axes[1].set_yticklabels([0.01, 0.1, 1, 10])\n",
    "axes[1].set_ylabel(r'$|\\Delta\\bar{{v}}_{{\\rm tan}}|$ [{0:latex_inline}]'.format(u.km/u.s))\n",
    "\n",
    "axes[1].set_xlabel(r'distance, $d_\\odot$ [{0}]'.format(u.pc))\n",
    "\n",
    "fig.tight_layout()\n",
    "fig.savefig(path.join(figure_path, 'dv-dist-fixed-dv.pdf'))"
   ]
  },
  {
   "cell_type": "markdown",
   "metadata": {},
   "source": [
    "---\n",
    "\n",
    "## Gaia proper motion precision"
   ]
  },
  {
   "cell_type": "code",
   "execution_count": null,
   "metadata": {
    "collapsed": true
   },
   "outputs": [],
   "source": [
    "from pygaia.photometry.utils import vminiFromSpt\n",
    "from pygaia.errors.astrometric import properMotionErrorSkyAvg"
   ]
  },
  {
   "cell_type": "code",
   "execution_count": null,
   "metadata": {},
   "outputs": [],
   "source": [
    "sun_mag = 4.83\n",
    "d = 1 * u.kpc\n",
    "G = 5 * np.log10(d / (10*u.pc)) + sun_mag\n",
    "print(G)"
   ]
  },
  {
   "cell_type": "code",
   "execution_count": null,
   "metadata": {},
   "outputs": [],
   "source": [
    "v = 25 * u.km/u.s\n",
    "pm = (v / d).to(u.microarcsecond/u.yr, u.dimensionless_angles())\n",
    "pm_err = np.linalg.norm(properMotionErrorSkyAvg(G, vminiFromSpt('G5V'))) * u.microarcsecond/u.yr\n",
    "\n",
    "n_samples = 10000\n",
    "d_samples = np.random.normal(d.value, 0.02, size=n_samples) * u.kpc\n",
    "pm_samples = np.random.normal(pm.value, pm_err.value, size=n_samples) * u.microarcsecond/u.yr\n",
    "v_samples = (pm_samples * d_samples).to(u.km/u.s, u.dimensionless_angles())\n",
    "print(np.std(v_samples))"
   ]
  },
  {
   "cell_type": "code",
   "execution_count": null,
   "metadata": {
    "collapsed": true
   },
   "outputs": [],
   "source": [
    "G_grid = np.linspace(6, 20, 1024)\n",
    "vmini = vminiFromSpt('B0V')\n",
    "pm_err = np.linalg.norm(properMotionErrorSkyAvg(G_grid, vmini), axis=0)"
   ]
  },
  {
   "cell_type": "code",
   "execution_count": null,
   "metadata": {},
   "outputs": [],
   "source": [
    "fig, ax = plt.subplots(1, 1, figsize=(8, 4.2))\n",
    "\n",
    "ax.fill_between(G_grid, pm_err - 0.3*pm_err, pm_err + 0.08*pm_err, \n",
    "                zorder=100, alpha=0.6)\n",
    "\n",
    "ax.set_yscale('log')\n",
    "ax.set_xlim(6, 20)\n",
    "ax.set_ylim(1, 1000)\n",
    "\n",
    "ax.grid(which='both')\n",
    "fig.savefig(path.join(figure_path, 'gaia-pm-err.pdf'))"
   ]
  },
  {
   "cell_type": "markdown",
   "metadata": {},
   "source": [
    "---\n",
    "\n",
    "## TGAS plots"
   ]
  },
  {
   "cell_type": "code",
   "execution_count": null,
   "metadata": {
    "collapsed": true
   },
   "outputs": [],
   "source": [
    "from astropy.io import fits\n",
    "from astropy.table import Table"
   ]
  },
  {
   "cell_type": "code",
   "execution_count": null,
   "metadata": {
    "collapsed": true
   },
   "outputs": [],
   "source": [
    "tgas = Table(fits.getdata('/Users/adrian/projects/gaia-comoving-stars/data/stacked_tgas.fits'))"
   ]
  },
  {
   "cell_type": "code",
   "execution_count": null,
   "metadata": {},
   "outputs": [],
   "source": [
    "fig, ax = plt.subplots(1, 1, figsize=figsize)\n",
    "ax.hist(tgas['phot_g_mean_mag'], bins=np.linspace(4, 16, 128));\n",
    "ax.set_yscale('log')\n",
    "ax.set_xlabel('$G$ [mag]')\n",
    "ax.set_ylabel('$N$ stars', rotation='horizontal', ha='right')\n",
    "ax.set_xticks(range(4,16+1,2))\n",
    "fig.tight_layout()\n",
    "fig.savefig(path.join(figure_path, 'tgas-G-hist.pdf'))"
   ]
  },
  {
   "cell_type": "code",
   "execution_count": null,
   "metadata": {},
   "outputs": [],
   "source": [
    "fig, ax = plt.subplots(1, 1, figsize=figsize)\n",
    "\n",
    "pm_err = np.sqrt(tgas['pmra_error']**2 + tgas['pmdec_error']**2)\n",
    "H, xedg, yedg = np.histogram2d(tgas['phot_g_mean_mag'], np.log10(pm_err), \n",
    "                               bins=(np.linspace(6, 14, 128),\n",
    "                                     np.linspace(-2, 2, 64)))\n",
    "\n",
    "ax.pcolormesh(xedg, yedg, np.log10(H.T), \n",
    "              vmin=0, vmax=4, cmap='Blues',\n",
    "              linewidth=0, rasterized=True)\n",
    "\n",
    "ax.set_xlabel('$G$ [mag]')\n",
    "ax.set_ylabel(r'$\\sigma_\\mu$' +'\\n[{0:latex_inline}]'.format(u.mas/u.yr), \n",
    "              rotation='horizontal', ha='right', va='center')\n",
    "\n",
    "ax.set_xlim(6, 14)\n",
    "ax.set_ylim(-2, 2)\n",
    "\n",
    "ax.set_yticks([-2, -1, 0, 1, 2])\n",
    "ax.set_yticklabels([\"0.01\", \"0.1\", \"1\", \"10\", \"100\"])\n",
    "\n",
    "fig.tight_layout()\n",
    "fig.savefig(path.join(figure_path, 'tgas-pm-err.pdf'))"
   ]
  },
  {
   "cell_type": "markdown",
   "metadata": {},
   "source": [
    "---\n",
    "\n",
    "## Graphical models"
   ]
  },
  {
   "cell_type": "code",
   "execution_count": null,
   "metadata": {
    "collapsed": true
   },
   "outputs": [],
   "source": [
    "import daft"
   ]
  },
  {
   "cell_type": "code",
   "execution_count": null,
   "metadata": {},
   "outputs": [],
   "source": [
    "param_phys = {'ec':'#3182bd', 'lw':2}\n",
    "\n",
    "with mpl.rc_context(rc={'font.size': 30}):\n",
    "    pgm = daft.PGM([6, 4], node_unit=2.5, grid_unit=4)\n",
    "    pgm.add_node(daft.Node(\"sigmap\", r\"$\\sigma_\\varpi$\", 1, 3, aspect=1.))\n",
    "    pgm.add_node(daft.Node(\"covpm\", r\"$\\mathcal{C}$\", 2.5, 3, aspect=1.))\n",
    "    pgm.add_node(daft.Node(\"radec\", r\"$\\alpha,\\delta$\", 3.5, 1.2, aspect=1., fixed=True, offset=[15,8]))\n",
    "    pgm.add_node(daft.Node(\"parallax\", r\"$\\varpi$\", 1, 2, aspect=1., observed=True))\n",
    "    pgm.add_node(daft.Node(\"pmra\", r\"$\\mu_\\alpha$\", 2, 2, aspect=1., observed=True))\n",
    "    pgm.add_node(daft.Node(\"pmdec\", r\"$\\mu_\\delta$\", 3, 2, aspect=1., observed=True))\n",
    "    pgm.add_node(daft.Node(\"distance\", r\"$r$\", 1, 1, aspect=1., plot_params=param_phys))\n",
    "    pgm.add_node(daft.Node(\"velocity\", r\"$\\bar{v}$\", 2.5, 1, aspect=1., plot_params=param_phys))\n",
    "\n",
    "    pgm.add_edge(\"sigmap\", \"parallax\")\n",
    "    pgm.add_edge(\"covpm\", \"pmra\")\n",
    "    pgm.add_edge(\"covpm\", \"pmdec\")\n",
    "    pgm.add_edge(\"distance\", \"parallax\")\n",
    "    pgm.add_edge(\"distance\", \"pmra\")\n",
    "    pgm.add_edge(\"distance\", \"pmdec\")\n",
    "    pgm.add_edge(\"velocity\", \"pmra\")\n",
    "    pgm.add_edge(\"velocity\", \"pmdec\")\n",
    "    pgm.add_edge(\"radec\", \"pmra\")\n",
    "    pgm.add_edge(\"radec\", \"pmdec\")\n",
    "    \n",
    "    pgm.render()\n",
    "    pgm.figure.savefig(path.join(figure_path, 'pgm-1-star.pdf'))"
   ]
  },
  {
   "cell_type": "code",
   "execution_count": null,
   "metadata": {},
   "outputs": [],
   "source": [
    "with mpl.rc_context(rc={'font.size': 30}):\n",
    "    pgm = daft.PGM([6, 6], node_unit=2.5, grid_unit=4)\n",
    "    pgm.add_node(daft.Node(\"sigmap1\", r\"$\\sigma_{\\varpi,1}$\", 1, 5.5, aspect=1.))\n",
    "    pgm.add_node(daft.Node(\"covpm1\", r\"$\\mathcal{C}_1$\", 2.5, 5.5, aspect=1.))\n",
    "    pgm.add_node(daft.Node(\"radec1\", r\"$\\alpha_1$, $\\delta_1$\", 3.5, 1.2+2.5, aspect=1., fixed=True, offset=[15,-40]))\n",
    "    pgm.add_node(daft.Node(\"parallax1\", r\"$\\varpi_1$\", 1, 2+2.5, aspect=1., observed=True))\n",
    "    pgm.add_node(daft.Node(\"pmra1\", r\"$\\mu_{\\alpha,1}$\", 2, 2+2.5, aspect=1., observed=True))\n",
    "    pgm.add_node(daft.Node(\"pmdec1\", r\"$\\mu_{\\delta,1}$\", 3, 2+2.5, aspect=1., observed=True))\n",
    "    pgm.add_node(daft.Node(\"distance1\", r\"$r_1$\", 1, 1+2.5, aspect=1., plot_params=param_phys))\n",
    "    pgm.add_node(daft.Node(\"velocity\", r\"$\\bar{v}$\", 2.5, 3, aspect=1., plot_params=param_phys))\n",
    "\n",
    "    pgm.add_node(daft.Node(\"sigmap2\", r\"$\\sigma_{\\varpi,2}$\", 1, 0.5, aspect=1.))\n",
    "    pgm.add_node(daft.Node(\"covpm2\", r\"$\\mathcal{C}_2$\", 2.5, 0.5, aspect=1.))\n",
    "    pgm.add_node(daft.Node(\"radec2\", r\"$\\alpha_2$, $\\delta_2$\", 3.5, 2.3, aspect=1., fixed=True, offset=[15,8]))\n",
    "    pgm.add_node(daft.Node(\"parallax2\", r\"$\\varpi_2$\", 1, 1.5, aspect=1., observed=True))\n",
    "    pgm.add_node(daft.Node(\"pmra2\", r\"$\\mu_{\\alpha,2}$\", 2, 1.5, aspect=1., observed=True))\n",
    "    pgm.add_node(daft.Node(\"pmdec2\", r\"$\\mu_{\\delta,2}$\", 3, 1.5, aspect=1., observed=True))\n",
    "    pgm.add_node(daft.Node(\"distance2\", r\"$r_2$\", 1, 2.5, aspect=1., plot_params=param_phys))\n",
    "\n",
    "    pgm.add_edge(\"sigmap1\", \"parallax1\")\n",
    "    pgm.add_edge(\"distance1\", \"parallax1\")\n",
    "    pgm.add_edge(\"distance1\", \"pmra1\")\n",
    "    pgm.add_edge(\"distance1\", \"pmdec1\")\n",
    "    pgm.add_edge(\"covpm1\", \"pmra1\")\n",
    "    pgm.add_edge(\"covpm1\", \"pmdec1\")\n",
    "    pgm.add_edge(\"velocity\", \"pmra1\")\n",
    "    pgm.add_edge(\"velocity\", \"pmdec1\")\n",
    "    pgm.add_edge(\"radec1\", \"pmra1\")\n",
    "    pgm.add_edge(\"radec1\", \"pmdec1\")\n",
    "\n",
    "    pgm.add_edge(\"sigmap2\", \"parallax2\")\n",
    "    pgm.add_edge(\"distance2\", \"parallax2\")\n",
    "    pgm.add_edge(\"distance2\", \"pmra2\")\n",
    "    pgm.add_edge(\"distance2\", \"pmdec2\")\n",
    "    pgm.add_edge(\"covpm2\", \"pmra2\")\n",
    "    pgm.add_edge(\"covpm2\", \"pmdec2\")\n",
    "    pgm.add_edge(\"velocity\", \"pmra2\")\n",
    "    pgm.add_edge(\"velocity\", \"pmdec2\")\n",
    "    pgm.add_edge(\"radec2\", \"pmra2\")\n",
    "    pgm.add_edge(\"radec2\", \"pmdec2\")\n",
    "\n",
    "    pgm.render()\n",
    "    pgm.figure.savefig(path.join(figure_path, 'pgm-case-1.pdf'))"
   ]
  },
  {
   "cell_type": "code",
   "execution_count": null,
   "metadata": {},
   "outputs": [],
   "source": [
    "with mpl.rc_context(rc={'font.size': 30}):\n",
    "    pgm = daft.PGM([6, 6], node_unit=2.5, grid_unit=4)\n",
    "    pgm.add_node(daft.Node(\"sigmap1\", r\"$\\sigma_{\\varpi,1}$\", 1, 5.5, aspect=1.))\n",
    "    pgm.add_node(daft.Node(\"covpm1\", r\"$\\mathcal{C}_1$\", 2.5, 5.5, aspect=1.))\n",
    "    pgm.add_node(daft.Node(\"radec1\", r\"$\\alpha_1$, $\\delta_1$\", 3.5, 1.2+2.5, aspect=1., fixed=True, offset=[15,-40]))\n",
    "    pgm.add_node(daft.Node(\"parallax1\", r\"$\\varpi_1$\", 1, 2+2.5, aspect=1., observed=True))\n",
    "    pgm.add_node(daft.Node(\"pmra1\", r\"$\\mu_{\\alpha,1}$\", 2, 2+2.5, aspect=1., observed=True))\n",
    "    pgm.add_node(daft.Node(\"pmdec1\", r\"$\\mu_{\\delta,1}$\", 3, 2+2.5, aspect=1., observed=True))\n",
    "    pgm.add_node(daft.Node(\"distance1\", r\"$r_1$\", 1, 1+2.5, aspect=1., plot_params=param_phys))\n",
    "    pgm.add_node(daft.Node(\"velocity1\", r\"$\\bar{v}_1$\", 2.5, 3.5, aspect=1., plot_params=param_phys))\n",
    "\n",
    "    pgm.add_node(daft.Node(\"sigmap2\", r\"$\\sigma_{\\varpi,2}$\", 1, 0.5, aspect=1.))\n",
    "    pgm.add_node(daft.Node(\"covpm2\", r\"$\\mathcal{C}_2$\", 2.5, 0.5, aspect=1.))\n",
    "    pgm.add_node(daft.Node(\"radec2\", r\"$\\alpha_2$, $\\delta_2$\", 3.5, 2.3, aspect=1., fixed=True, offset=[15,8]))\n",
    "    pgm.add_node(daft.Node(\"parallax2\", r\"$\\varpi_2$\", 1, 1.5, aspect=1., observed=True))\n",
    "    pgm.add_node(daft.Node(\"pmra2\", r\"$\\mu_{\\alpha,2}$\", 2, 1.5, aspect=1., observed=True))\n",
    "    pgm.add_node(daft.Node(\"pmdec2\", r\"$\\mu_{\\delta,2}$\", 3, 1.5, aspect=1., observed=True))\n",
    "    pgm.add_node(daft.Node(\"distance2\", r\"$r_2$\", 1, 2.5, aspect=1., plot_params=param_phys))\n",
    "    pgm.add_node(daft.Node(\"velocity2\", r\"$\\bar{v}_2$\", 2.5, 2.5, aspect=1., plot_params=param_phys))\n",
    "\n",
    "    pgm.add_edge(\"sigmap1\", \"parallax1\")\n",
    "    pgm.add_edge(\"distance1\", \"parallax1\")\n",
    "    pgm.add_edge(\"distance1\", \"pmra1\")\n",
    "    pgm.add_edge(\"distance1\", \"pmdec1\")\n",
    "    pgm.add_edge(\"covpm1\", \"pmra1\")\n",
    "    pgm.add_edge(\"covpm1\", \"pmdec1\")\n",
    "    pgm.add_edge(\"velocity1\", \"pmra1\")\n",
    "    pgm.add_edge(\"velocity1\", \"pmdec1\")\n",
    "    pgm.add_edge(\"radec1\", \"pmra1\")\n",
    "    pgm.add_edge(\"radec1\", \"pmdec1\")\n",
    "\n",
    "    pgm.add_edge(\"sigmap2\", \"parallax2\")\n",
    "    pgm.add_edge(\"distance2\", \"parallax2\")\n",
    "    pgm.add_edge(\"distance2\", \"pmra2\")\n",
    "    pgm.add_edge(\"distance2\", \"pmdec2\")\n",
    "    pgm.add_edge(\"covpm2\", \"pmra2\")\n",
    "    pgm.add_edge(\"covpm2\", \"pmdec2\")\n",
    "    pgm.add_edge(\"velocity2\", \"pmra2\")\n",
    "    pgm.add_edge(\"velocity2\", \"pmdec2\")\n",
    "    pgm.add_edge(\"radec2\", \"pmra2\")\n",
    "    pgm.add_edge(\"radec2\", \"pmdec2\")\n",
    "\n",
    "    pgm.render()\n",
    "    pgm.figure.savefig(path.join(figure_path, 'pgm-case-2.pdf'))"
   ]
  },
  {
   "cell_type": "markdown",
   "metadata": {},
   "source": [
    "---\n",
    "\n",
    "## Pairs plots"
   ]
  },
  {
   "cell_type": "code",
   "execution_count": null,
   "metadata": {
    "collapsed": true
   },
   "outputs": [],
   "source": [
    "from astropy.table import Table\n",
    "from matplotlib.animation import FuncAnimation"
   ]
  },
  {
   "cell_type": "code",
   "execution_count": null,
   "metadata": {
    "collapsed": true
   },
   "outputs": [],
   "source": [
    "tbl1 = Table.read('../../gaia-comoving-stars/paper/t1-1-star.txt', format='ascii.csv')\n",
    "tbl2 = Table.read('../../gaia-comoving-stars/paper/t1-2-pair.txt', format='ascii.csv')\n",
    "tbl3 = Table.read('../../gaia-comoving-stars/paper/t1-3-group.txt', format='ascii.csv')"
   ]
  },
  {
   "cell_type": "code",
   "execution_count": null,
   "metadata": {
    "collapsed": true
   },
   "outputs": [],
   "source": [
    "star1 = tbl1[tbl2['star1']]\n",
    "star2 = tbl1[tbl2['star2']]"
   ]
  },
  {
   "cell_type": "code",
   "execution_count": null,
   "metadata": {
    "collapsed": true
   },
   "outputs": [],
   "source": [
    "star1_c = coord.ICRS(ra=star1['ra']*u.deg,\n",
    "                     dec=star1['dec']*u.deg,\n",
    "                     distance=star1['distance']*u.pc)\n",
    "\n",
    "star2_c = coord.ICRS(ra=star2['ra']*u.deg,\n",
    "                     dec=star2['dec']*u.deg,\n",
    "                     distance=star2['distance']*u.pc)\n",
    "\n",
    "star1_c = star1_c.transform_to(coord.Galactic)\n",
    "star2_c = star2_c.transform_to(coord.Galactic)"
   ]
  },
  {
   "cell_type": "code",
   "execution_count": null,
   "metadata": {
    "collapsed": true
   },
   "outputs": [],
   "source": [
    "star1_xyz = star1_c.represent_as('cartesian').xyz.to(u.pc).value\n",
    "star2_xyz = star2_c.represent_as('cartesian').xyz.to(u.pc).value"
   ]
  },
  {
   "cell_type": "code",
   "execution_count": null,
   "metadata": {},
   "outputs": [],
   "source": [
    "lim = 200\n",
    "\n",
    "fig,ax = plt.subplots(1, 1, figsize=(8,8))\n",
    "\n",
    "lines = []\n",
    "for i in range(len(star1)):\n",
    "    lines.append([(star1_xyz[0,i], star1_xyz[2,i]),\n",
    "                  (star2_xyz[0,i], star2_xyz[2,i])]) \n",
    "\n",
    "lc = mpl.collections.LineCollection(lines, linestyles='-', \n",
    "                                    alpha=0.2, color='k')\n",
    "ax.add_collection(lc)\n",
    "\n",
    "ax.text(0, 0, r'$\\odot$', fontsize=18, \n",
    "        zorder=100, ha='center', va='center')\n",
    "        \n",
    "# For sanity checking:\n",
    "ls = [0,90,180,270]\n",
    "nodes = coord.Galactic(l=ls*u.deg, \n",
    "                       b=np.zeros(4)*u.deg,\n",
    "                       distance=lim*u.pc).represent_as('cartesian').xyz.to(u.pc).value\n",
    "\n",
    "for node,l in zip(nodes.T, ls):\n",
    "    ax.plot([0,node[0]], [0, node[1]], marker='',\n",
    "            lw=2, zorder=-100, alpha=0.1, color='#666666')\n",
    "    ax.text(node[0], node[1], r'$l = {0}^\\circ$'.format(l), va='top')\n",
    "\n",
    "ax.xaxis.set_visible(False)\n",
    "ax.yaxis.set_visible(False)\n",
    "\n",
    "ax.set_xlim(-lim, lim)\n",
    "ax.set_ylim(-lim, lim)"
   ]
  },
  {
   "cell_type": "code",
   "execution_count": null,
   "metadata": {},
   "outputs": [],
   "source": [
    "fig,ax = plt.subplots(1, 1, figsize=(8,8))\n",
    "\n",
    "angles = np.arange(0, 360+1, 1)\n",
    "\n",
    "ax.xaxis.set_visible(False)\n",
    "ax.yaxis.set_visible(False)\n",
    "\n",
    "fig.tight_layout()\n",
    "\n",
    "def func(angle):\n",
    "    R = coord.matrix_utilities.rotation_matrix(angle*u.deg, axis='x')\n",
    "    new_star1_xyz = R @ star1_xyz\n",
    "    new_star2_xyz = R @ star2_xyz\n",
    "    \n",
    "    lines = []\n",
    "    for i in range(len(star1)):\n",
    "        lines.append([(new_star1_xyz[0,i], new_star1_xyz[1,i]),\n",
    "                      (new_star2_xyz[0,i], new_star2_xyz[1,i])]) \n",
    "    \n",
    "    lc = mpl.collections.LineCollection(lines, linestyles='-', \n",
    "                                        linewidths=1, alpha=0.2, color='k')\n",
    "    ax.cla()\n",
    "    ax.add_collection(lc)\n",
    "    \n",
    "    for i,col in zip(range(3), ['red', 'green', 'blue']):\n",
    "        derp = np.zeros(3)\n",
    "        derp[i] = 10\n",
    "        g = R @ derp\n",
    "        ax.plot([0, g[0]], [0, g[1]], marker='', linewidth=1, \n",
    "                alpha=0.75, color='tab:'+col, zorder=-100)\n",
    "    \n",
    "    ax.text(0, 0, r'$\\odot$', fontsize=18, \n",
    "            zorder=100, ha='center', va='center')\n",
    "    \n",
    "    ax.set_xlim(-lim, lim)\n",
    "    ax.set_ylim(-lim, lim)\n",
    "    \n",
    "    return ln,\n",
    "\n",
    "ani = FuncAnimation(fig, func, frames=angles, blit=True, interval=50)\n",
    "ani.save(path.join(figure_path, 'all-pairs-rotate-x.mp4'), dpi=300, bitrate=-1)"
   ]
  },
  {
   "cell_type": "markdown",
   "metadata": {},
   "source": [
    "Only groups with >5 members"
   ]
  },
  {
   "cell_type": "code",
   "execution_count": null,
   "metadata": {
    "collapsed": true
   },
   "outputs": [],
   "source": [
    "all_colors = plt.rcParams['axes.prop_cycle'].by_key()['color']"
   ]
  },
  {
   "cell_type": "code",
   "execution_count": null,
   "metadata": {},
   "outputs": [],
   "source": [
    "fig,ax = plt.subplots(1, 1, figsize=(8,8))\n",
    "\n",
    "angles = np.arange(0, 360+1, 1)\n",
    "\n",
    "ax.xaxis.set_visible(False)\n",
    "ax.yaxis.set_visible(False)\n",
    "\n",
    "fig.tight_layout()\n",
    "\n",
    "def func(angle):\n",
    "    R = coord.matrix_utilities.rotation_matrix(angle*u.deg, axis='x')\n",
    "    new_star1_xyz = R @ star1_xyz[:,tbl2['group_size'] > 5]\n",
    "    new_star2_xyz = R @ star2_xyz[:,tbl2['group_size'] > 5]\n",
    "    \n",
    "    group_ids = tbl2[tbl2['group_size'] > 5]['group_id']\n",
    "    \n",
    "    lines = []\n",
    "    for i in range(new_star1_xyz.shape[1]):\n",
    "        lines.append([(new_star1_xyz[0,i], new_star1_xyz[1,i]),\n",
    "                      (new_star2_xyz[0,i], new_star2_xyz[1,i])]) \n",
    "    \n",
    "    # This is totally batshit crazy!\n",
    "    np.random.seed(42)\n",
    "    colors = np.empty(len(group_ids), dtype=object)\n",
    "    for gid in np.unique(group_ids):\n",
    "        colors[group_ids == gid] = np.random.choice(all_colors)\n",
    "    \n",
    "    lc = mpl.collections.LineCollection(lines, linestyles='-', colors=colors,\n",
    "                                        linewidths=1, alpha=0.2)\n",
    "    ax.cla()\n",
    "    ax.add_collection(lc)\n",
    "    \n",
    "    for i,col in zip(range(3), ['red', 'green', 'blue']):\n",
    "        derp = np.zeros(3)\n",
    "        derp[i] = 10\n",
    "        g = R @ derp\n",
    "        ax.plot([0, g[0]], [0, g[1]], marker='', linewidth=1, \n",
    "                alpha=0.75, color='tab:'+col, zorder=-100)\n",
    "    \n",
    "    ax.text(0, 0, r'$\\odot$', fontsize=18, \n",
    "            zorder=100, ha='center', va='center')\n",
    "    \n",
    "    ax.set_xlim(-lim, lim)\n",
    "    ax.set_ylim(-lim, lim)\n",
    "    \n",
    "    return ln,\n",
    "\n",
    "ani = FuncAnimation(fig, func, frames=angles, blit=True, interval=50)\n",
    "ani.save(path.join(figure_path, 'groups-rotate-x.mp4'), dpi=300, bitrate=-1)"
   ]
  },
  {
   "cell_type": "code",
   "execution_count": null,
   "metadata": {},
   "outputs": [],
   "source": [
    "fig,ax = plt.subplots(1, 1, figsize=(8,8))\n",
    "\n",
    "angles = np.arange(0, 360+1, 1)\n",
    "\n",
    "ax.xaxis.set_visible(False)\n",
    "ax.yaxis.set_visible(False)\n",
    "\n",
    "fig.tight_layout()\n",
    "\n",
    "def func(angle):\n",
    "    R = coord.matrix_utilities.rotation_matrix(angle*u.deg, axis='x')\n",
    "    idx = tbl2['group_size'] == 2\n",
    "    new_star1_xyz = R @ star1_xyz[:,idx]\n",
    "    new_star2_xyz = R @ star2_xyz[:,idx]\n",
    "    \n",
    "    lines = []\n",
    "    for i in range(new_star1_xyz.shape[1]):\n",
    "        lines.append([(new_star1_xyz[0,i], new_star1_xyz[1,i]),\n",
    "                      (new_star2_xyz[0,i], new_star2_xyz[1,i])]) \n",
    "    \n",
    "    lc = mpl.collections.LineCollection(lines, linestyles='-', color='k',\n",
    "                                        linewidths=1, alpha=0.2)\n",
    "    ax.cla()\n",
    "    ax.add_collection(lc)\n",
    "    \n",
    "    ax.plot(new_star1_xyz[0], new_star1_xyz[1], color='k',\n",
    "            marker='.', ms=4, linestyle='none', alpha=0.4)\n",
    "    ax.plot(new_star2_xyz[0], new_star2_xyz[1], color='k',\n",
    "            marker='.', ms=4, linestyle='none', alpha=0.4)\n",
    "    \n",
    "    for i,col in zip(range(3), ['red', 'green', 'blue']):\n",
    "        derp = np.zeros(3)\n",
    "        derp[i] = 10\n",
    "        g = R @ derp\n",
    "        ax.plot([0, g[0]], [0, g[1]], marker='', linewidth=1, \n",
    "                alpha=0.75, color='tab:'+col, zorder=-100)\n",
    "    \n",
    "    ax.text(0, 0, r'$\\odot$', fontsize=18, \n",
    "            zorder=100, ha='center', va='center')\n",
    "    \n",
    "    ax.set_xlim(-lim, lim)\n",
    "    ax.set_ylim(-lim, lim)\n",
    "    \n",
    "    return ln,\n",
    "\n",
    "ani = FuncAnimation(fig, func, frames=angles, blit=True, interval=50)\n",
    "ani.save(path.join(figure_path, 'pairs-rotate-x-marker.mp4'), dpi=300, bitrate=-1)"
   ]
  },
  {
   "cell_type": "markdown",
   "metadata": {},
   "source": [
    "## Count vs. tangential separation for pairs"
   ]
  },
  {
   "cell_type": "code",
   "execution_count": null,
   "metadata": {
    "collapsed": true
   },
   "outputs": [],
   "source": [
    "sep_tan = star1_c.distance * star1_c.separation(star2_c)\n",
    "sep_tan = sep_tan.to(u.pc, u.dimensionless_angles())"
   ]
  },
  {
   "cell_type": "code",
   "execution_count": null,
   "metadata": {},
   "outputs": [],
   "source": [
    "fig, ax = plt.subplots(1, 1, figsize=figsize)\n",
    "\n",
    "ax.hist(sep_tan.value[tbl2['group_size'] == 2], bins=np.logspace(-2, 1, 30));\n",
    "\n",
    "ax.set_xlim(1E-2, 10)\n",
    "ax.set_ylim(1, 1000)\n",
    "ax.set_xscale('log')\n",
    "ax.set_yscale('log')\n",
    "\n",
    "ax.set_xlabel('sky separation [pc]')\n",
    "ax.set_ylabel('$N$', rotation='horizontal', ha='right')\n",
    "fig.tight_layout()"
   ]
  },
  {
   "cell_type": "code",
   "execution_count": null,
   "metadata": {
    "collapsed": true
   },
   "outputs": [],
   "source": []
  }
 ],
 "metadata": {
  "kernelspec": {
   "display_name": "Python [default]",
   "language": "python",
   "name": "python3"
  },
  "language_info": {
   "codemirror_mode": {
    "name": "ipython",
    "version": 3
   },
   "file_extension": ".py",
   "mimetype": "text/x-python",
   "name": "python",
   "nbconvert_exporter": "python",
   "pygments_lexer": "ipython3",
   "version": "3.6.1"
  }
 },
 "nbformat": 4,
 "nbformat_minor": 2
}